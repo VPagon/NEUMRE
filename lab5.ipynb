{
  "cells": [
    {
      "cell_type": "markdown",
      "metadata": {
        "collapsed": true,
        "id": "3dwcKOLMwkvk"
      },
      "source": [
        "# Exercise 5: Multilayer perceptron\n",
        "\n",
        "The focus of this exercise will be on multilayer perceptron and to do that in a simpler way, an introduction to TensorFlow is given first.\n",
        "\n",
        "## 5.1 Introduction to TensorFlow\n",
        "\n",
        "TensorFlow is an open-source symbolic math software library used for machine learning applications such as neural networks. The following command is used to import TensorFlow in the Python code:"
      ]
    },
    {
      "cell_type": "code",
      "execution_count": 2,
      "metadata": {
        "collapsed": true,
        "id": "qCDzfdz4wkwK"
      },
      "outputs": [],
      "source": [
        "# import tensorflow as tf\n",
        "import tensorflow.compat.v1 as tf\n",
        "tf.disable_eager_execution()"
      ]
    },
    {
      "cell_type": "markdown",
      "metadata": {
        "id": "ixGtDdl_wkwN"
      },
      "source": [
        "### 5.1.1 Constants, sessions, and operations\n",
        "TensorFlow is based around tensors - *n*-dimensional arrays of a given type. Three main tensor types in TensorFlow are constant, variable, and placeholder. To create a constant, the [tf.constant()](https://www.tensorflow.org/api_docs/python/tf/constant) method is used:"
      ]
    },
    {
      "cell_type": "code",
      "execution_count": 3,
      "metadata": {
        "colab": {
          "base_uri": "https://localhost:8080/"
        },
        "id": "psYCsUp1wkwR",
        "outputId": "ed4b5583-2e7b-4fae-adf1-1f4a7c3318d3"
      },
      "outputs": [
        {
          "output_type": "stream",
          "name": "stdout",
          "text": [
            "Tensor(\"Const:0\", shape=(), dtype=int32)\n"
          ]
        }
      ],
      "source": [
        "c=tf.constant(2)\n",
        "print(c)"
      ]
    },
    {
      "cell_type": "markdown",
      "metadata": {
        "id": "SpQ27QHewkwR"
      },
      "source": [
        "This constant tensor like other tensors has a value, a shape, a data type, and a name. These can be directly specified:"
      ]
    },
    {
      "cell_type": "code",
      "execution_count": 4,
      "metadata": {
        "colab": {
          "base_uri": "https://localhost:8080/"
        },
        "id": "af_WoNnswkwS",
        "outputId": "1d8281c7-6d39-4a70-aa5d-42501bde635f"
      },
      "outputs": [
        {
          "output_type": "stream",
          "name": "stdout",
          "text": [
            "Tensor(\"our_constant:0\", shape=(2, 5), dtype=float32)\n"
          ]
        }
      ],
      "source": [
        "c=tf.constant(3, shape=(2, 5), dtype=tf.float32, name=\"our_constant\")\n",
        "print(c)"
      ]
    },
    {
      "cell_type": "markdown",
      "metadata": {
        "id": "Z42Jfp47wkwU"
      },
      "source": [
        "To evaluate a tensor, a [Session](https://www.tensorflow.org/api_docs/python/tf/Session) instance is required. Sessions are environments where tensors and operations are executed. A session can be created and then used for evaluation as follows:"
      ]
    },
    {
      "cell_type": "code",
      "execution_count": 5,
      "metadata": {
        "colab": {
          "base_uri": "https://localhost:8080/"
        },
        "id": "q3HZ_R2SwkwU",
        "outputId": "c5c2a14d-fa72-474b-de5d-ff67367f8939"
      },
      "outputs": [
        {
          "output_type": "stream",
          "name": "stdout",
          "text": [
            "[[3. 3. 3. 3. 3.]\n",
            " [3. 3. 3. 3. 3.]]\n"
          ]
        }
      ],
      "source": [
        "session=tf.Session()\n",
        "print(session.run(c))"
      ]
    },
    {
      "cell_type": "markdown",
      "metadata": {
        "id": "7t2rME5bwkwV"
      },
      "source": [
        "Other useful ways of creating constant tensors include the methods [tf.zeros()](https://www.tensorflow.org/api_docs/python/tf/zeros) and [tf.ones()](https://www.tensorflow.org/api_docs/python/tf/ones):"
      ]
    },
    {
      "cell_type": "code",
      "execution_count": 6,
      "metadata": {
        "colab": {
          "base_uri": "https://localhost:8080/"
        },
        "id": "6313ow8XwkwW",
        "outputId": "17bf9631-0fe7-4138-ccb2-89382ec82e44"
      },
      "outputs": [
        {
          "output_type": "stream",
          "name": "stdout",
          "text": [
            "[[0. 0. 0.]\n",
            " [0. 0. 0.]]\n",
            "[[1.]\n",
            " [1.]\n",
            " [1.]]\n"
          ]
        }
      ],
      "source": [
        "z=tf.zeros((2, 3))\n",
        "print(session.run(z))\n",
        "\n",
        "o=tf.ones((3, 1))\n",
        "print(session.run(o))"
      ]
    },
    {
      "cell_type": "markdown",
      "metadata": {
        "id": "aLnZrr0JwkwY"
      },
      "source": [
        "The most common methods to create tensors with random values are [tf.random_uniform](https://www.tensorflow.org/api_docs/python/tf/random_uniform) and [tf.random_normal](https://www.tensorflow.org/api_docs/python/tf/random_normal):"
      ]
    },
    {
      "cell_type": "code",
      "execution_count": 7,
      "metadata": {
        "colab": {
          "base_uri": "https://localhost:8080/"
        },
        "id": "bCSnsJtiwkwZ",
        "outputId": "458d51a8-55dc-4ed8-a421-8a7b38d2a9a4"
      },
      "outputs": [
        {
          "output_type": "stream",
          "name": "stdout",
          "text": [
            "[[3.7191029 5.243061  2.7745814 2.0805216]\n",
            " [6.48823   2.3203182 6.5444274 5.983381 ]]\n",
            "[[-0.763472   -0.88185114 -0.86291134 -0.1471235 ]\n",
            " [-0.5276783   0.832573    0.37150228  0.12026113]]\n"
          ]
        }
      ],
      "source": [
        "u=tf.random_uniform(shape=(2, 4), minval=2, maxval=7)\n",
        "print(session.run(u))\n",
        "\n",
        "n=tf.random_normal(shape=(2, 4), mean=0, stddev=1)\n",
        "print(session.run(n))"
      ]
    },
    {
      "cell_type": "markdown",
      "metadata": {
        "id": "Bz-UiFvywkwa"
      },
      "source": [
        "Applying addition, subtraction, multiplication, and division to tensors can be achieved by using operators +, -, *, and / or by calling  [tf.add()](https://www.tensorflow.org/api_docs/python/tf/add), [tf.subtract()](https://www.tensorflow.org/api_docs/python/tf/subtract), [tf.multiply()](https://www.tensorflow.org/api_docs/python/tf/multiply), [tf.divide()](https://www.tensorflow.org/api_docs/python/tf/divide). Each of these operations is performed element-wise, e.g. when applied to matrices, [tf.multiply()](https://www.tensorflow.org/api_docs/python/tf/multiply) is not matrix multiplication like [tf.matmul()](https://www.tensorflow.org/api_docs/python/tf/matmul), but element-wise multiplication."
      ]
    },
    {
      "cell_type": "code",
      "execution_count": 8,
      "metadata": {
        "colab": {
          "base_uri": "https://localhost:8080/"
        },
        "id": "JoEoAL4Wwkwb",
        "outputId": "1d2acfef-c734-4b6e-ba75-39f2c1c1e6cc"
      },
      "outputs": [
        {
          "output_type": "stream",
          "name": "stdout",
          "text": [
            "[[8. 8.]]\n",
            "[[-1. -1.]]\n",
            "[[2. 2.]]\n",
            "[[0.5 0.5]]\n"
          ]
        }
      ],
      "source": [
        "a=tf.ones((1, 2))\n",
        "b=2*tf.ones((1, 2))\n",
        "\n",
        "print(session.run(a+b+5))\n",
        "print(session.run(tf.subtract(a, b)))\n",
        "print(session.run(a*b))\n",
        "print(session.run(tf.divide(a, b)))"
      ]
    },
    {
      "cell_type": "markdown",
      "metadata": {
        "id": "YHzlAvYdwkwc"
      },
      "source": [
        "Some other operations include [tf.abs()](https://www.tensorflow.org/api_docs/python/tf/abs), [tf.exp()](https://www.tensorflow.org/api_docs/python/tf/exp), [tf.matmul()](https://www.tensorflow.org/api_docs/python/tf/matmul), [tf.pow()](https://www.tensorflow.org/api_docs/python/tf/pow), [tf.square()](https://www.tensorflow.org/api_docs/python/tf/square), [tf.transpose()](https://www.tensorflow.org/api_docs/python/tf/transpose)."
      ]
    },
    {
      "cell_type": "code",
      "execution_count": 9,
      "metadata": {
        "colab": {
          "base_uri": "https://localhost:8080/"
        },
        "id": "q1pU9Q8Lwkwe",
        "outputId": "bc43b926-b439-46f9-b0d7-413f6b2da739"
      },
      "outputs": [
        {
          "output_type": "stream",
          "name": "stdout",
          "text": [
            "[[1.4986184 ]\n",
            " [0.17589664]\n",
            " [3.7705026 ]\n",
            " [2.545667  ]\n",
            " [1.9450929 ]]\n"
          ]
        }
      ],
      "source": [
        "print(session.run(tf.transpose(tf.abs(tf.random_normal((1, 5), mean=0, stddev=3)))))"
      ]
    },
    {
      "cell_type": "markdown",
      "metadata": {
        "id": "xdaLJQI9wkwf"
      },
      "source": [
        "### 5.1.2 Placeholders and variables\n",
        "Tensors used for more complex data and computation are [placeholders](https://www.tensorflow.org/api_docs/python/tf/placeholder) and [variables](https://www.tensorflow.org/api_docs/python/tf/Variable). Placeholders are providers of future values and mostly serve to take the input to the network. For this reasong thay cannot be directly evaluated unless its value is \"fed\" i.e. given by means of dictionary."
      ]
    },
    {
      "cell_type": "code",
      "execution_count": 10,
      "metadata": {
        "colab": {
          "base_uri": "https://localhost:8080/"
        },
        "id": "fDGePOzzwkwf",
        "outputId": "d943c038-e797-465b-d8e2-1ba26720f528"
      },
      "outputs": [
        {
          "output_type": "stream",
          "name": "stdout",
          "text": [
            "-5.0\n",
            "5.0\n",
            "[17.  1.  2.]\n",
            "\n",
            "\n",
            "\n",
            "[[1. 2. 3.]\n",
            " [2. 4. 6.]\n",
            " [3. 6. 9.]]\n",
            "[[14.]]\n"
          ]
        }
      ],
      "source": [
        "#we create a placeholder\n",
        "a=tf.placeholder(dtype=tf.float32)\n",
        "\n",
        "#this would produce an error\n",
        "#print(session.run(a))\n",
        "\n",
        "#but not this\n",
        "print(session.run(a, feed_dict={a:-5}))\n",
        "\n",
        "#we use its value later\n",
        "b=tf.abs(a)\n",
        "\n",
        "#to provide a value to the placeholder, feed_dict is used\n",
        "print(session.run(b, feed_dict={a:-5}))\n",
        "#we can also use different input size\n",
        "print(session.run(b, feed_dict={a:[-17, 1, -2]}))\n",
        "\n",
        "print(\"\\n\\n\")\n",
        "\n",
        "m1=tf.placeholder(dtype=tf.float32)\n",
        "m2=tf.placeholder(dtype=tf.float32)\n",
        "\n",
        "p=tf.matmul(m1, m2)\n",
        "print(session.run(p, feed_dict={m1:[[1], [2], [3]], m2:[[1, 2, 3]]}))\n",
        "print(session.run(p, feed_dict={m1:[[1, 2, 3]], m2:[[1], [2], [3]]}))\n"
      ]
    },
    {
      "cell_type": "markdown",
      "metadata": {
        "id": "lcuZj1Z1wkwh"
      },
      "source": [
        "Variable are mostly used for trainable parameters. While constants are intialized when created,variables are initialized within the session by a procedure that must be defined. Manual assignment of new values tan be is possible using [tf.assign()](https://www.tensorflow.org/api_docs/python/tf/assign). Variables are mostly changed during the optimization process.\n"
      ]
    },
    {
      "cell_type": "code",
      "execution_count": 11,
      "metadata": {
        "colab": {
          "base_uri": "https://localhost:8080/"
        },
        "id": "VlB7PIocwkwi",
        "outputId": "ecfe27fa-a9b6-459e-a013-6b1ec7362bc0"
      },
      "outputs": [
        {
          "output_type": "stream",
          "name": "stdout",
          "text": [
            "3\n",
            "[[0.5973332  0.2478745  0.8597325 ]\n",
            " [0.7633383  0.6777934  0.85324347]]\n"
          ]
        }
      ],
      "source": [
        "session=tf.Session()\n",
        "#a constant is used for the initialization procedure\n",
        "a=tf.Variable(3)\n",
        "#random values will be used for initialization\n",
        "b=tf.Variable(tf.random_uniform(shape=(2, 3)))\n",
        "\n",
        "#this would produce an error since the variable has not been initialized - only the initialization procedure has been defined\n",
        "#print(session.run(a))\n",
        "\n",
        "#initialize all variables\n",
        "session.run(tf.global_variables_initializer())\n",
        "#now evaluate the variable\n",
        "print(session.run(a))\n",
        "print(session.run(b))"
      ]
    },
    {
      "cell_type": "markdown",
      "metadata": {
        "collapsed": true,
        "id": "xiERFrWqwkwj"
      },
      "source": [
        "### 5.1.3 Linear regression\n",
        "To have an example of a fully written network, let's now implement simple multivariate linear regression using TensorFlow. The used model will be $y=\\mathbf{w}^{T}\\mathbf{x}+\\mathbf{b}$."
      ]
    },
    {
      "cell_type": "code",
      "execution_count": 12,
      "metadata": {
        "collapsed": true,
        "id": "87DcpgGVwkwk"
      },
      "outputs": [],
      "source": [
        "#data placeholders - this will be used for the given features and for the ground-truth value of y\n",
        "x=tf.placeholder(dtype=tf.float32, shape=[None, 3])\n",
        "y=tf.placeholder(dtype=tf.float32, shape=[None, 1])\n",
        "\n",
        "#parameter variables\n",
        "w=tf.Variable(tf.random_normal(shape=(3, 1)))\n",
        "b=tf.Variable(tf.random_normal([1, 1]))\n",
        "\n",
        "#the model for y - this will be used for the predicted value of y\n",
        "y_predicted=tf.matmul(x, w)+b"
      ]
    },
    {
      "cell_type": "markdown",
      "metadata": {
        "id": "3v7JfULswkwl"
      },
      "source": [
        "TensorFlow trains a model i.e. learns its parameter values by minimizing a loss function that needs to be defined. The minimization is carried out by a defined optimizer object by calling its [minimize()](https://www.tensorflow.org/api_docs/python/tf/train/Optimizer#minimize) method called. The learning rate chosen when defining the optimizer objects and the number of training epochs will have a significant impact on the model training process by influencing how fast the learning process will converge."
      ]
    },
    {
      "cell_type": "code",
      "execution_count": 13,
      "metadata": {
        "colab": {
          "base_uri": "https://localhost:8080/"
        },
        "id": "xJwRvUntwkwl",
        "outputId": "14873ad2-014f-4239-9344-a0dd385d0308"
      },
      "outputs": [
        {
          "output_type": "stream",
          "name": "stdout",
          "text": [
            "Epoch #10: 0.13989817\n",
            "Epoch #20: 0.0019781336\n",
            "Epoch #30: 3.3972028e-05\n",
            "Epoch #40: 5.9797776e-07\n",
            "Epoch #50: 1.05952545e-08\n",
            "Epoch #60: 1.8872008e-10\n",
            "Epoch #70: 3.952057e-12\n",
            "Epoch #80: 1.8829216e-13\n",
            "Epoch #90: 1.8186341e-13\n",
            "Epoch #100: 1.8181901e-13\n",
            "[[ 0.9999999]\n",
            " [ 2.9999998]\n",
            " [-1.9999998]]\n"
          ]
        }
      ],
      "source": [
        "#the loss function will be mean square\n",
        "loss=tf.reduce_mean(tf.square(y_predicted-y))\n",
        "\n",
        "#gradient descent optimizer with learning rate 0.1\n",
        "optimizer=tf.train.GradientDescentOptimizer(0.1)\n",
        "\n",
        "#train operation\n",
        "train=optimizer.minimize(loss)\n",
        "\n",
        "#generation data for regression\n",
        "import numpy as np\n",
        "w_real=np.array([[1], [3], [-2]])\n",
        "x_train=np.random.normal(size=(100, 3))\n",
        "y_train=(w_real.T@x_train.T).T;\n",
        "\n",
        "session.run(tf.global_variables_initializer())\n",
        "for epoch in range(100):\n",
        "    session.run(train, feed_dict={x:x_train, y:y_train})\n",
        "    if ((epoch+1)%10==0):\n",
        "        print(\"Epoch #\"+str(epoch+1)+\": \"+str(session.run(loss, feed_dict={x:x_train, y:y_train})))\n",
        "\n",
        "#print the trained weights\n",
        "print(session.run(w))"
      ]
    },
    {
      "cell_type": "markdown",
      "metadata": {
        "id": "--iq3Z7cwkwm"
      },
      "source": [
        "## 5.2 The XOR problem\n",
        "XOR samples are not linearly separable. However, they can be separated by introducing non-linearities. In TensorFlow some of them include [tf.sigmoid()](https://www.tensorflow.org/api_docs/python/tf/sigmoid), [tf.tanh()](https://www.tensorflow.org/api_docs/python/tf/tanh), [tf.nn.relu()](https://www.tensorflow.org/api_docs/python/tf/nn/relu), etc. Besides the common [tf.train.GradientDescentOptimizer](https://www.tensorflow.org/api_docs/python/tf/train/GradientDescentOptimizer), there are other optimizers as well, e.g. [tf.train.AdamOptimizer](https://www.tensorflow.org/api_docs/python/tf/train/AdamOptimizer).\n",
        "\n",
        "**Task**\n",
        "\n",
        "Below is the code for solving the XOR problem in TensorFlow. Determine how many epochs are required for the training process to converge for each combination of the chosen activation function, optimizer, and various learning rates. Which combination turned out to be the best?"
      ]
    },
    {
      "cell_type": "code",
      "execution_count": 14,
      "metadata": {
        "colab": {
          "base_uri": "https://localhost:8080/"
        },
        "id": "c8aPL7hGwkwo",
        "outputId": "23cae40c-5160-4db4-c2e3-d08ca82e36c4"
      },
      "outputs": [
        {
          "output_type": "stream",
          "name": "stdout",
          "text": [
            "Epoch #100: 0.24913815\n",
            "Epoch #200: 0.24885383\n",
            "Epoch #300: 0.24850482\n",
            "Epoch #400: 0.2480651\n",
            "Epoch #500: 0.24750082\n",
            "Epoch #600: 0.24676779\n",
            "Epoch #700: 0.24580908\n",
            "Epoch #800: 0.24455315\n",
            "Epoch #900: 0.24291371\n",
            "Epoch #1000: 0.24079177\n",
            "Epoch #1100: 0.23808095\n",
            "Epoch #1200: 0.23467433\n",
            "Epoch #1300: 0.23047094\n",
            "Epoch #1400: 0.22537854\n",
            "Epoch #1500: 0.21931347\n",
            "Epoch #1600: 0.21220008\n",
            "Epoch #1700: 0.20397106\n",
            "Epoch #1800: 0.19455248\n",
            "Epoch #1900: 0.1838054\n",
            "Epoch #2000: 0.17141455\n",
            "Epoch #2100: 0.15677255\n",
            "Epoch #2200: 0.13899678\n",
            "Epoch #2300: 0.11733583\n",
            "Epoch #2400: 0.09208761\n",
            "Epoch #2500: 0.06541091\n",
            "Epoch #2600: 0.04106904\n",
            "Epoch #2700: 0.022554908\n",
            "Epoch #2800: 0.010923474\n",
            "Epoch #2900: 0.004771057\n",
            "Epoch #3000: 0.0019310426\n",
            "Epoch #3100: 0.000742029\n",
            "Epoch #3200: 0.0002757255\n",
            "Epoch #3300: 0.00010032454\n",
            "Threshold passed at epoch #3301.\n"
          ]
        }
      ],
      "source": [
        "activation_type=tf.nn.sigmoid;\n",
        "#activation_type=tf.nn.tanh;\n",
        "#activation_type=tf.nn.relu;\n",
        "\n",
        "optimizer_type=tf.train.GradientDescentOptimizer\n",
        "#optimizer_type=tf.train.AdamOptimizer\n",
        "\n",
        "learning_rate=0.1;\n",
        "\n",
        "\n",
        "\n",
        "threshold=1e-4\n",
        "\n",
        "session=tf.Session()\n",
        "\n",
        "#training data\n",
        "x_train=np.array([[0, 0], [0, 1], [1, 0], [1, 1]])\n",
        "y_train=np.array([[0], [1], [1], [0]])\n",
        "\n",
        "x=tf.placeholder(tf.float32, [None, 2])\n",
        "y=tf.placeholder(tf.float32, [None, 1])\n",
        "\n",
        "w1=tf.Variable(tf.random_uniform((2, 2)))\n",
        "b1=tf.Variable(tf.random_uniform([2]))\n",
        "\n",
        "w2=tf.Variable(tf.random_uniform((2, 1)))\n",
        "b2=tf.Variable(tf.random_uniform([1]))\n",
        "\n",
        "\n",
        "f1=tf.matmul(x, w1)+b1\n",
        "f2=activation_type(f1)\n",
        "y_predicted=tf.matmul(f2, w2)+b2\n",
        "\n",
        "loss=tf.reduce_mean(tf.square(y_predicted-y))\n",
        "\n",
        "optimizer=optimizer_type(learning_rate)\n",
        "train=optimizer.minimize(loss)\n",
        "\n",
        "session.run(tf.global_variables_initializer())\n",
        "\n",
        "for epoch in range(10000):\n",
        "    session.run(train, feed_dict={x:x_train, y:y_train})\n",
        "    error=session.run(loss,{x:x_train, y:y_train})\n",
        "    if ((epoch+1)%100==0):\n",
        "        print(\"Epoch #\"+str(epoch+1)+\": \"+str(error))\n",
        "    if (error<threshold):\n",
        "        print(\"Threshold passed at epoch #\"+str(epoch+1)+\".\");\n",
        "        break;\n",
        "\n",
        "session.close();"
      ]
    },
    {
      "cell_type": "markdown",
      "metadata": {
        "id": "fCAKkkMKwkwr"
      },
      "source": [
        "## 5.3 The MNIST dataset\n",
        "[The MNIST dataset](http://yann.lecun.com/exdb/mnist/) contains 60,000 training and 10,000 test images of handwritten digits. It is used to test the ability of a method to recognize which digit is on a given image. Although spatial distribution of individual image pixels matters, in this example we are going to disregard it and simply use individual pixel values as features. There are $28\\cdot 28=784$ pixels i.e. features per image. The basic code is given below.\n",
        "\n",
        "**Task**\n",
        "\n",
        "Experiment with different activation functions, learning rates, batch sizes, optimizers, and architectures. What is the best combination of them? Which of them has the highest impact on the accuracy and rate of convergence? How about the size of hidden layers? Make the comparisons and draw the appropriate plots."
      ]
    },
    {
      "cell_type": "code",
      "execution_count": 17,
      "metadata": {
        "colab": {
          "base_uri": "https://localhost:8080/",
          "height": 373
        },
        "id": "FcaAzHmGwkws",
        "outputId": "f5a275e1-d318-48ed-fbe7-62de15917dee"
      },
      "outputs": [
        {
          "output_type": "error",
          "ename": "ModuleNotFoundError",
          "evalue": "ignored",
          "traceback": [
            "\u001b[0;31m---------------------------------------------------------------------------\u001b[0m",
            "\u001b[0;31mModuleNotFoundError\u001b[0m                       Traceback (most recent call last)",
            "\u001b[0;32m<ipython-input-17-ccd425be4a4f>\u001b[0m in \u001b[0;36m<module>\u001b[0;34m\u001b[0m\n\u001b[1;32m      3\u001b[0m \u001b[0;31m# mnist=input_data.read_data_sets(\"mnist/\", one_hot=True)\u001b[0m\u001b[0;34m\u001b[0m\u001b[0;34m\u001b[0m\u001b[0;34m\u001b[0m\u001b[0m\n\u001b[1;32m      4\u001b[0m \u001b[0;34m\u001b[0m\u001b[0m\n\u001b[0;32m----> 5\u001b[0;31m \u001b[0;32mimport\u001b[0m \u001b[0minput_data\u001b[0m\u001b[0;34m\u001b[0m\u001b[0;34m\u001b[0m\u001b[0m\n\u001b[0m\u001b[1;32m      6\u001b[0m \u001b[0mmnist\u001b[0m\u001b[0;34m=\u001b[0m\u001b[0minput_data\u001b[0m\u001b[0;34m.\u001b[0m\u001b[0mread_data_sets\u001b[0m\u001b[0;34m(\u001b[0m\u001b[0;34m\"mnist/\"\u001b[0m\u001b[0;34m,\u001b[0m \u001b[0mone_hot\u001b[0m\u001b[0;34m=\u001b[0m\u001b[0;32mTrue\u001b[0m\u001b[0;34m)\u001b[0m\u001b[0;34m\u001b[0m\u001b[0;34m\u001b[0m\u001b[0m\n\u001b[1;32m      7\u001b[0m \u001b[0;34m\u001b[0m\u001b[0m\n",
            "\u001b[0;31mModuleNotFoundError\u001b[0m: No module named 'input_data'",
            "",
            "\u001b[0;31m---------------------------------------------------------------------------\u001b[0;32m\nNOTE: If your import is failing due to a missing package, you can\nmanually install dependencies using either !pip or !apt.\n\nTo view examples of installing some common dependencies, click the\n\"Open Examples\" button below.\n\u001b[0;31m---------------------------------------------------------------------------\u001b[0m\n"
          ],
          "errorDetails": {
            "actions": [
              {
                "action": "open_url",
                "actionText": "Open Examples",
                "url": "/notebooks/snippets/importing_libraries.ipynb"
              }
            ]
          }
        }
      ],
      "source": [
        "#use MNIST data\n",
        "# from tensorflow.examples.tutorials.mnist import input_data\n",
        "# mnist=input_data.read_data_sets(\"mnist/\", one_hot=True)\n",
        "\n",
        "import input_data\n",
        "mnist=input_data.read_data_sets(\"mnist/\", one_hot=True)\n",
        "\n",
        "# import tensorflow as tf\n",
        "\n",
        "#settings\n",
        "learning_rate=0.01\n",
        "training_epochs_count=20\n",
        "batch_size=100\n",
        "batches_count=int(mnist.train.num_examples/batch_size)\n",
        "\n",
        "activation_function=tf.nn.relu\n",
        "optimizer_type=tf.train.AdamOptimizer\n",
        "\n",
        "batch_size=100\n",
        "display_step=1\n",
        "\n",
        "#architecture\n",
        "hidden_layer_size_1=256\n",
        "hidden_layer_size_2=256\n",
        "input_size=784\n",
        "n_classes=10\n",
        "\n",
        "#data input\n",
        "x=tf.placeholder(tf.float32, [None, input_size])\n",
        "y=tf.placeholder(tf.float32, [None, n_classes])\n",
        "\n",
        "#weights\n",
        "w1=tf.Variable(tf.random_normal([input_size, hidden_layer_size_1]))\n",
        "w2=tf.Variable(tf.random_normal([hidden_layer_size_1, hidden_layer_size_2]))\n",
        "w3=tf.Variable(tf.random_normal([hidden_layer_size_2, n_classes]))\n",
        "\n",
        "#biases\n",
        "b1=tf.Variable(tf.random_normal([hidden_layer_size_1]))\n",
        "b2=tf.Variable(tf.random_normal([hidden_layer_size_2]))\n",
        "b3=tf.Variable(tf.random_normal([n_classes]))\n",
        "\n",
        "#layers\n",
        "layer_1=activation_function(tf.add(tf.matmul(x, w1), b1))\n",
        "layer_2=activation_function(tf.add(tf.matmul(layer_1, w2), b2))\n",
        "y_predicted=tf.matmul(layer_2, w3)+b3\n",
        "\n",
        "cost=tf.reduce_mean(tf.nn.softmax_cross_entropy_with_logits(logits=y_predicted, labels=y))\n",
        "optimizer=optimizer_type(learning_rate=learning_rate).minimize(cost)\n",
        "\n",
        "\n",
        "session=tf.Session();\n",
        "session.run(tf.global_variables_initializer())\n",
        "\n",
        "correct_y_predictediction=tf.equal(tf.argmax(y_predicted, 1), tf.argmax(y, 1))\n",
        "accuracy=tf.reduce_mean(tf.cast(correct_y_predictediction, tf.float32))\n",
        "\n",
        "for epoch in range(training_epochs_count):\n",
        "\tfor i in range(batches_count):\n",
        "\t\tbatch_x, batch_y = mnist.train.next_batch(batch_size)\n",
        "\t\tsession.run(optimizer, feed_dict={x:batch_x, y:batch_y})\n",
        "\tif ((epoch+1)%display_step==0):\n",
        "\t\tprint(\"Epoch #\"+str(epoch+1)+\" \"+str(session.run(accuracy, feed_dict={x: mnist.test.images, y: mnist.test.labels})))\n",
        "\n",
        "session.close()"
      ]
    }
  ],
  "metadata": {
    "kernelspec": {
      "display_name": "Python 3",
      "language": "python",
      "name": "python3"
    },
    "language_info": {
      "codemirror_mode": {
        "name": "ipython",
        "version": 3
      },
      "file_extension": ".py",
      "mimetype": "text/x-python",
      "name": "python",
      "nbconvert_exporter": "python",
      "pygments_lexer": "ipython3",
      "version": "3.6.2"
    },
    "colab": {
      "provenance": []
    }
  },
  "nbformat": 4,
  "nbformat_minor": 0
}